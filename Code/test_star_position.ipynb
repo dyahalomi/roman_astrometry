{
 "cells": [
  {
   "cell_type": "code",
   "execution_count": 11,
   "id": "634de723",
   "metadata": {},
   "outputs": [
    {
     "name": "stdout",
     "output_type": "stream",
     "text": [
      "[[-2.68458236e-02  3.42886449e-04  2.79727496e-02  5.57052859e-02\n",
      "   8.30506979e-02  1.09589451e-01  1.35156322e-01  1.59887830e-01\n",
      "   1.84036645e-01  2.07669248e-01  2.30532059e-01  2.52163213e-01\n",
      "   2.72109379e-01  2.90130015e-01  3.06300216e-01  3.20898141e-01\n",
      "   3.34109176e-01  3.45817449e-01  3.55653121e-01  3.63193475e-01\n",
      "   3.68179470e-01  3.70661386e-01  3.70960371e-01  3.69407006e-01\n",
      "   3.66074622e-01  3.60749328e-01  3.53101119e-01  3.42904829e-01\n",
      "   3.30216431e-01  3.15402158e-01  2.98933053e-01  2.81084884e-01\n",
      "   2.61825046e-01  2.40937727e-01  2.18241066e-01  1.93784498e-01]\n",
      " [-9.32788921e-01 -9.65442814e-01 -9.93358426e-01 -1.01625249e+00\n",
      "  -1.03394775e+00 -1.04638225e+00 -1.05356719e+00 -1.05550394e+00\n",
      "  -1.05211088e+00 -1.04323633e+00 -1.02874904e+00 -1.00861981e+00\n",
      "  -9.82947636e-01 -9.51932301e-01 -9.15800442e-01 -8.74719853e-01\n",
      "  -8.28780179e-01 -7.78066356e-01 -7.22749710e-01 -6.63130144e-01\n",
      "  -5.99622210e-01 -5.32691754e-01 -4.62764219e-01 -3.90174643e-01\n",
      "  -3.15214609e-01 -2.38225070e-01 -1.59653462e-01 -8.00532929e-02\n",
      "  -3.25603414e-05  7.98367985e-02  1.59092945e-01  2.37368240e-01\n",
      "   3.14301666e-01  3.89466504e-01  4.62354157e-01  5.32410628e-01]\n",
      " [-5.74919388e-01 -5.12232756e-01 -4.47100146e-01 -3.80107260e-01\n",
      "  -3.11618158e-01 -2.41752950e-01 -1.70506640e-01 -9.79802092e-02\n",
      "  -2.45842500e-02  4.89940723e-02  1.22037421e-01  1.94020964e-01\n",
      "   2.64683121e-01  3.33949537e-01  4.01730307e-01  4.67685433e-01\n",
      "   5.31173632e-01  5.91456929e-01  6.47954762e-01  7.00364770e-01\n",
      "   7.48630486e-01  7.92774330e-01  8.32653786e-01  8.67833136e-01\n",
      "   8.97722522e-01  9.21843818e-01  9.39999097e-01  9.52281528e-01\n",
      "   9.58945995e-01  9.60172768e-01  9.55876420e-01  9.45761521e-01\n",
      "   9.29574709e-01  9.07314126e-01  8.79283649e-01  8.46001365e-01]]\n"
     ]
    }
   ],
   "source": [
    "import numpy as np\n",
    "import pandas as pd\n",
    "import matplotlib.pyplot as plt\n",
    "import exoplanet as xo\n",
    "import pymc3 as pm\n",
    "import pymc3_ext as pmx\n",
    "import aesara_theano_fallback.tensor as tt\n",
    "import theano\n",
    "\n",
    "\n",
    "# define planetary parameters\n",
    "T_subtract = 2454000\n",
    "\n",
    "\n",
    "P_earth = 365.256\n",
    "e_earth = 0.0167\n",
    "Tper_earth= 2454115.5208333 - T_subtract\n",
    "omega_earth = np.radians(102.9)\n",
    "Omega_earth = np.radians(0.0)\n",
    "inclination_earth = np.radians(70.0)\n",
    "m_earth = 1*3.00273e-6 #units m_sun\n",
    "\n",
    "\n",
    "P_jup = 4327.631\n",
    "e_jup = 0.0484\n",
    "Tper_jup = 2455633.7215278 - T_subtract\n",
    "omega_jup = np.radians(274.3) - 2*np.pi\n",
    "Omega_jup = np.radians(100.4)\n",
    "inclination_jup = np.radians(1.31) + inclination_earth\n",
    "m_jup = 317.83*3.00273e-6 #units m_sun\n",
    "\n",
    "\n",
    "#define times of observation\n",
    "x_astrometry = np.arange(150, 1950, 50)\n",
    "\n",
    "# instantiate the orbit\n",
    "orbit = xo.orbits.KeplerianOrbit(\n",
    "    t_periastron=[Tper_earth, Tper_jup], period=[P_earth, P_jup], ecc=[e_earth, e_jup], \n",
    "    omega=[omega_earth, omega_jup], m_planet = [m_earth, m_jup], \n",
    "    Omega = [Omega_earth, Omega_jup], incl = [inclination_earth, inclination_jup])\n",
    "\n",
    "# determine and print the star position at desired times\n",
    "pos = theano.function([], orbit.get_star_position(x_astrometry))()\n",
    "pos = tt.sum(pos, axis=-1)\n",
    "\n",
    "print(pos.eval())"
   ]
  },
  {
   "cell_type": "code",
   "execution_count": null,
   "id": "7f0494ec",
   "metadata": {},
   "outputs": [],
   "source": []
  }
 ],
 "metadata": {
  "kernelspec": {
   "display_name": "Python3.9",
   "language": "python",
   "name": "python3.9"
  },
  "language_info": {
   "codemirror_mode": {
    "name": "ipython",
    "version": 3
   },
   "file_extension": ".py",
   "mimetype": "text/x-python",
   "name": "python",
   "nbconvert_exporter": "python",
   "pygments_lexer": "ipython3",
   "version": "3.9.5"
  }
 },
 "nbformat": 4,
 "nbformat_minor": 5
}
