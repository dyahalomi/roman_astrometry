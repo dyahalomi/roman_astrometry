{
 "cells": [
  {
   "cell_type": "code",
   "execution_count": 7,
   "id": "4bc9ac7b",
   "metadata": {},
   "outputs": [
    {
     "name": "stdout",
     "output_type": "stream",
     "text": [
      "[[0. 0. 0. 0. 0. 0. 0. 0. 0. 0. 0. 0. 0. 0. 0. 0. 0. 0. 0. 0. 0. 0. 0. 0.\n",
      "  0. 0. 0. 0. 0. 0. 0. 0. 0. 0. 0. 0.]\n",
      " [0. 0. 0. 0. 0. 0. 0. 0. 0. 0. 0. 0. 0. 0. 0. 0. 0. 0. 0. 0. 0. 0. 0. 0.\n",
      "  0. 0. 0. 0. 0. 0. 0. 0. 0. 0. 0. 0.]\n",
      " [0. 0. 0. 0. 0. 0. 0. 0. 0. 0. 0. 0. 0. 0. 0. 0. 0. 0. 0. 0. 0. 0. 0. 0.\n",
      "  0. 0. 0. 0. 0. 0. 0. 0. 0. 0. 0. 0.]]\n"
     ]
    }
   ],
   "source": [
    "import numpy as np\n",
    "import pandas as pd\n",
    "import matplotlib.pyplot as plt\n",
    "import exoplanet as xo\n",
    "import pymc3 as pm\n",
    "import pymc3_ext as pmx\n",
    "import aesara_theano_fallback.tensor as tt\n",
    "import theano\n",
    "\n",
    "T_subtract = 2454000\n",
    "\n",
    "\n",
    "P_earth = 365.256\n",
    "e_earth = 0.0167\n",
    "Tper_earth= 2454115.5208333 - T_subtract\n",
    "omega_earth = np.radians(102.9)\n",
    "Omega_earth = np.radians(0.0)\n",
    "inclination_earth = np.radians(70.0)\n",
    "m_earth = 1*3.00273e-6 #units m_sun\n",
    "\n",
    "\n",
    "P_jup = 4327.631\n",
    "e_jup = 0.0484\n",
    "Tper_jup = 2455633.7215278 - T_subtract\n",
    "omega_jup = np.radians(274.3) - 2*np.pi\n",
    "Omega_jup = np.radians(100.4)\n",
    "inclination_jup = np.radians(1.31) + inclination_earth\n",
    "m_jup = 317.83*3.00273e-6 #units m_sun\n",
    "\n",
    "\n",
    "#define times of observation\n",
    "x_astrometry = np.arange(150, 1950, 50)\n",
    "\n",
    "# instantiate the orbit\n",
    "orbit = xo.orbits.KeplerianOrbit(\n",
    "    t_periastron=[Tper_earth, Tper_jup], period=[P_earth, P_jup], ecc=[e_earth, e_jup], \n",
    "    omega=[omega_earth, omega_jup], m_p = [m_earth, m_jup], \n",
    "    Omega = [Omega_earth, Omega_jup], incl = [inclination_earth, inclination_jup],)\n",
    "\n",
    "# determine and print the star position at desired times\n",
    "pos = theano.function([], orbit.get_star_position(x_astrometry))()\n",
    "pos = tt.sum(pos, axis=-1)\n",
    "\n",
    "print(pos.eval())"
   ]
  },
  {
   "cell_type": "code",
   "execution_count": null,
   "id": "826345a0",
   "metadata": {},
   "outputs": [],
   "source": []
  }
 ],
 "metadata": {
  "kernelspec": {
   "display_name": "Python3.9",
   "language": "python",
   "name": "python3.9"
  },
  "language_info": {
   "codemirror_mode": {
    "name": "ipython",
    "version": 3
   },
   "file_extension": ".py",
   "mimetype": "text/x-python",
   "name": "python",
   "nbconvert_exporter": "python",
   "pygments_lexer": "ipython3",
   "version": "3.9.5"
  }
 },
 "nbformat": 4,
 "nbformat_minor": 5
}
