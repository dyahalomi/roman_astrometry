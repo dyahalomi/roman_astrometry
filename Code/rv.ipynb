{
 "cells": [
  {
   "cell_type": "markdown",
   "metadata": {},
   "source": [
    "(rv)=\n",
    "\n",
    "# Radial velocity fitting"
   ]
  },
  {
   "cell_type": "code",
   "execution_count": 3,
   "metadata": {
    "execution": {
     "iopub.execute_input": "2021-06-14T21:40:59.742299Z",
     "iopub.status.busy": "2021-06-14T21:40:59.741797Z",
     "iopub.status.idle": "2021-06-14T21:41:02.380014Z",
     "shell.execute_reply": "2021-06-14T21:41:02.379446Z"
    }
   },
   "outputs": [
    {
     "name": "stdout",
     "output_type": "stream",
     "text": [
      "exoplanet.__version__ = '0.4.0'\n"
     ]
    }
   ],
   "source": [
    "import exoplanet\n",
    "\n",
    "#exoplanet.utils.docs_setup()\n",
    "print(f\"exoplanet.__version__ = '{exoplanet.__version__}'\")"
   ]
  },
  {
   "cell_type": "markdown",
   "metadata": {},
   "source": [
    "In this case study, we will demonstrate how to fit radial velocity observations of an exoplanetary system using *exoplanet*.\n",
    "We will follow [the getting started tutorial](https://radvel.readthedocs.io/en/latest/tutorials/K2-24_Fitting+MCMC.html) from [the excellent RadVel package](https://radvel.readthedocs.io) where they fit for the parameters of the two planets in [the K2-24 system](https://arxiv.org/abs/1511.04497).\n",
    "\n",
    "First, let's download the data from RadVel:"
   ]
  },
  {
   "cell_type": "code",
   "execution_count": 4,
   "metadata": {
    "execution": {
     "iopub.execute_input": "2021-06-14T21:41:02.386410Z",
     "iopub.status.busy": "2021-06-14T21:41:02.385946Z",
     "iopub.status.idle": "2021-06-14T21:41:02.641843Z",
     "shell.execute_reply": "2021-06-14T21:41:02.641352Z"
    }
   },
   "outputs": [
    {
     "data": {
      "image/png": "[encoded data removed]",
      "text/plain": [
       "<Figure size 432x288 with 1 Axes>"
      ]
     },
     "metadata": {
      "needs_background": "light"
     },
     "output_type": "display_data"
    }
   ],
   "source": [
    "import numpy as np\n",
    "import pandas as pd\n",
    "import matplotlib.pyplot as plt\n",
    "\n",
    "url = \"https://raw.githubusercontent.com/California-Planet-Search/radvel/master/example_data/epic203771098.csv\"\n",
    "data = pd.read_csv(url, index_col=0)\n",
    "\n",
    "x = np.array(data.t)\n",
    "y = np.array(data.vel)\n",
    "yerr = np.array(data.errvel)\n",
    "\n",
    "# Compute a reference time that will be used to normalize the trends model\n",
    "x_ref = 0.5 * (x.min() + x.max())\n",
    "\n",
    "# Also make a fine grid that spans the observation window for plotting purposes\n",
    "t = np.linspace(x.min() - 5, x.max() + 5, 1000)\n",
    "\n",
    "plt.errorbar(x, y, yerr=yerr, fmt=\".k\")\n",
    "plt.xlabel(\"time [days]\")\n",
    "_ = plt.ylabel(\"radial velocity [m/s]\")"
   ]
  },
  {
   "cell_type": "markdown",
   "metadata": {},
   "source": [
    "Now, we know the periods and transit times for the planets [from the K2 light curve](https://arxiv.org/abs/1511.04497), so let's start by using the :func:`exoplanet.estimate_semi_amplitude` function to estimate the expected RV semi-amplitudes for the planets."
   ]
  },
  {
   "cell_type": "code",
   "execution_count": 5,
   "metadata": {
    "execution": {
     "iopub.execute_input": "2021-06-14T21:41:02.648031Z",
     "iopub.status.busy": "2021-06-14T21:41:02.646966Z",
     "iopub.status.idle": "2021-06-14T21:41:02.649653Z",
     "shell.execute_reply": "2021-06-14T21:41:02.649256Z"
    }
   },
   "outputs": [
    {
     "name": "stdout",
     "output_type": "stream",
     "text": [
      "[5.05069163 5.50983542] m/s\n"
     ]
    }
   ],
   "source": [
    "import exoplanet as xo\n",
    "\n",
    "periods = [20.8851, 42.3633]\n",
    "period_errs = [0.0003, 0.0006]\n",
    "t0s = [2072.7948, 2082.6251]\n",
    "t0_errs = [0.0007, 0.0004]\n",
    "Ks = xo.estimate_semi_amplitude(periods, x, y, yerr, t0s=t0s)\n",
    "print(Ks, \"m/s\")"
   ]
  },
  {
   "cell_type": "code",
   "execution_count": 6,
   "metadata": {
    "execution": {
     "iopub.execute_input": "2021-06-14T21:41:02.654317Z",
     "iopub.status.busy": "2021-06-14T21:41:02.653854Z",
     "iopub.status.idle": "2021-06-14T21:41:02.657873Z",
     "shell.execute_reply": "2021-06-14T21:41:02.658240Z"
    }
   },
   "outputs": [
    {
     "data": {
      "text/plain": [
       "array([1.43643076e-05, 1.41632026e-05])"
      ]
     },
     "execution_count": 6,
     "metadata": {},
     "output_type": "execute_result"
    }
   ],
   "source": [
    "0.5 * (\n",
    "    np.log(np.array(periods) + np.array(period_errs))\n",
    "    - np.log(np.array(periods) - np.array(period_errs))\n",
    ")"
   ]
  },
  {
   "cell_type": "code",
   "execution_count": 7,
   "metadata": {
    "execution": {
     "iopub.execute_input": "2021-06-14T21:41:02.662621Z",
     "iopub.status.busy": "2021-06-14T21:41:02.662159Z",
     "iopub.status.idle": "2021-06-14T21:41:02.664337Z",
     "shell.execute_reply": "2021-06-14T21:41:02.664705Z"
    }
   },
   "outputs": [
    {
     "data": {
      "text/plain": [
       "array([1.43643076e-05, 1.41632026e-05])"
      ]
     },
     "execution_count": 7,
     "metadata": {},
     "output_type": "execute_result"
    }
   ],
   "source": [
    "np.array(period_errs) / np.array(periods)"
   ]
  },
  {
   "cell_type": "markdown",
   "metadata": {},
   "source": [
    "## The radial velocity model in PyMC3\n",
    "\n",
    "Now that we have the data and an estimate of the initial values for the parameters, let's start defining the probabilistic model in PyMC3.\n",
    "First, we'll define our priors on the parameters:"
   ]
  },
  {
   "cell_type": "code",
   "execution_count": 8,
   "metadata": {
    "execution": {
     "iopub.execute_input": "2021-06-14T21:41:02.673419Z",
     "iopub.status.busy": "2021-06-14T21:41:02.666544Z",
     "iopub.status.idle": "2021-06-14T21:42:18.489202Z",
     "shell.execute_reply": "2021-06-14T21:42:18.488696Z"
    }
   },
   "outputs": [],
   "source": [
    "import pymc3 as pm\n",
    "import pymc3_ext as pmx\n",
    "import aesara_theano_fallback.tensor as tt\n",
    "\n",
    "with pm.Model() as model:\n",
    "\n",
    "    # Gaussian priors based on transit data (from Petigura et al.)\n",
    "    t0 = pm.Normal(\"t0\", mu=np.array(t0s), sd=np.array(t0_errs), shape=2)\n",
    "    logP = pm.Normal(\n",
    "        \"logP\",\n",
    "        mu=np.log(periods),\n",
    "        sd=np.array(period_errs) / np.array(periods),\n",
    "        shape=2,\n",
    "        testval=np.log(periods),\n",
    "    )\n",
    "    P = pm.Deterministic(\"P\", tt.exp(logP))\n",
    "\n",
    "    # Wide log-normal prior for semi-amplitude\n",
    "    logK = pm.Normal(\n",
    "        \"logK\", mu=np.log(Ks), sd=2.0, shape=2, testval=np.log(Ks)\n",
    "    )\n",
    "\n",
    "    # Eccentricity & argument of periasteron\n",
    "    ecs = pmx.UnitDisk(\"ecs\", shape=(2, 2), testval=0.01 * np.ones((2, 2)))\n",
    "    ecc = pm.Deterministic(\"ecc\", tt.sum(ecs ** 2, axis=0))\n",
    "    omega = pm.Deterministic(\"omega\", tt.arctan2(ecs[1], ecs[0]))\n",
    "    xo.eccentricity.vaneylen19(\n",
    "        \"ecc_prior\", multi=True, shape=2, fixed=True, observed=ecc\n",
    "    )\n",
    "\n",
    "    # Jitter & a quadratic RV trend\n",
    "    logs = pm.Normal(\"logs\", mu=np.log(np.median(yerr)), sd=5.0)\n",
    "    trend = pm.Normal(\"trend\", mu=0, sd=10.0 ** -np.arange(3)[::-1], shape=3)\n",
    "\n",
    "    # Then we define the orbit\n",
    "    orbit = xo.orbits.KeplerianOrbit(period=P, t0=t0, ecc=ecc, omega=omega)\n",
    "\n",
    "    # And a function for computing the full RV model\n",
    "    def get_rv_model(t, name=\"\"):\n",
    "        # First the RVs induced by the planets\n",
    "        vrad = orbit.get_radial_velocity(t, K=tt.exp(logK))\n",
    "        pm.Deterministic(\"vrad\" + name, vrad)\n",
    "\n",
    "        # Define the background model\n",
    "        A = np.vander(t - x_ref, 3)\n",
    "        bkg = pm.Deterministic(\"bkg\" + name, tt.dot(A, trend))\n",
    "\n",
    "        # Sum over planets and add the background to get the full model\n",
    "        return pm.Deterministic(\"rv_model\" + name, tt.sum(vrad, axis=-1) + bkg)\n",
    "\n",
    "    # Define the RVs at the observed times\n",
    "    rv_model = get_rv_model(x)\n",
    "\n",
    "    # Also define the model on a fine grid as computed above (for plotting)\n",
    "    rv_model_pred = get_rv_model(t, name=\"_pred\")\n",
    "\n",
    "    # Finally add in the observation model. This next line adds a new contribution\n",
    "    # to the log probability of the PyMC3 model\n",
    "    err = tt.sqrt(yerr ** 2 + tt.exp(2 * logs))\n",
    "    pm.Normal(\"obs\", mu=rv_model, sd=err, observed=y)"
   ]
  },
  {
   "cell_type": "markdown",
   "metadata": {},
   "source": [
    "Now, we can plot the initial model:"
   ]
  },
  {
   "cell_type": "code",
   "execution_count": 9,
   "metadata": {
    "execution": {
     "iopub.execute_input": "2021-06-14T21:42:18.513672Z",
     "iopub.status.busy": "2021-06-14T21:42:18.495087Z",
     "iopub.status.idle": "2021-06-14T21:42:32.192655Z",
     "shell.execute_reply": "2021-06-14T21:42:32.193094Z"
    }
   },
   "outputs": [
    {
     "data": {
      "image/png": "[encoded data removed]",
      "text/plain": [
       "<Figure size 432x288 with 1 Axes>"
      ]
     },
     "metadata": {
      "needs_background": "light"
     },
     "output_type": "display_data"
    }
   ],
   "source": [
    "plt.errorbar(x, y, yerr=yerr, fmt=\".k\")\n",
    "\n",
    "with model:\n",
    "    plt.plot(t, pmx.eval_in_model(model.vrad_pred), \"--k\", alpha=0.5)\n",
    "    plt.plot(t, pmx.eval_in_model(model.bkg_pred), \":k\", alpha=0.5)\n",
    "    plt.plot(t, pmx.eval_in_model(model.rv_model_pred), label=\"model\")\n",
    "\n",
    "plt.legend(fontsize=10)\n",
    "plt.xlim(t.min(), t.max())\n",
    "plt.xlabel(\"time [days]\")\n",
    "plt.ylabel(\"radial velocity [m/s]\")\n",
    "_ = plt.title(\"initial model\")"
   ]
  },
  {
   "cell_type": "markdown",
   "metadata": {},
   "source": [
    "In this plot, the background is the dotted line, the individual planets are the dashed lines, and the full model is the blue line.\n",
    "\n",
    "It doesn't look amazing so let's fit for the maximum a posterior parameters."
   ]
  },
  {
   "cell_type": "code",
   "execution_count": 10,
   "metadata": {
    "execution": {
     "iopub.execute_input": "2021-06-14T21:42:32.203677Z",
     "iopub.status.busy": "2021-06-14T21:42:32.197584Z",
     "iopub.status.idle": "2021-06-14T21:44:50.407934Z",
     "shell.execute_reply": "2021-06-14T21:44:50.408297Z"
    }
   },
   "outputs": [
    {
     "name": "stderr",
     "output_type": "stream",
     "text": [
      "optimizing logp for variables: [trend]\n"
     ]
    },
    {
     "data": {
      "text/html": [
       "\n",
       "    <div>\n",
       "        <style>\n",
       "            /* Turns off some styling */\n",
       "            progress {\n",
       "                /* gets rid of default border in Firefox and Opera. */\n",
       "                border: none;\n",
       "                /* Needs to be in here for Safari polyfill so background images work as expected. */\n",
       "                background-size: auto;\n",
       "            }\n",
       "            .progress-bar-interrupted, .progress-bar-interrupted::-webkit-progress-bar {\n",
       "                background: #F44336;\n",
       "            }\n",
       "        </style>\n",
       "      <progress value='14' class='' max='14' style='width:300px; height:20px; vertical-align: middle;'></progress>\n",
       "      100.00% [14/14 00:00<00:00 logp = -5.742e+01]\n",
       "    </div>\n",
       "    "
      ],
      "text/plain": [
       "<IPython.core.display.HTML object>"
      ]
     },
     "metadata": {},
     "output_type": "display_data"
    },
    {
     "name": "stdout",
     "output_type": "stream",
     "text": [
      "\n"
     ]
    },
    {
     "name": "stderr",
     "output_type": "stream",
     "text": [
      "message: Optimization terminated successfully.\n",
      "logp: -68.03907701822288 -> -57.421349373917316\n",
      "optimizing logp for variables: [logs, logP, logK, trend, t0]\n"
     ]
    },
    {
     "data": {
      "text/html": [
       "\n",
       "    <div>\n",
       "        <style>\n",
       "            /* Turns off some styling */\n",
       "            progress {\n",
       "                /* gets rid of default border in Firefox and Opera. */\n",
       "                border: none;\n",
       "                /* Needs to be in here for Safari polyfill so background images work as expected. */\n",
       "                background-size: auto;\n",
       "            }\n",
       "            .progress-bar-interrupted, .progress-bar-interrupted::-webkit-progress-bar {\n",
       "                background: #F44336;\n",
       "            }\n",
       "        </style>\n",
       "      <progress value='41' class='' max='41' style='width:300px; height:20px; vertical-align: middle;'></progress>\n",
       "      100.00% [41/41 00:00<00:00 logp = -5.182e+01]\n",
       "    </div>\n",
       "    "
      ],
      "text/plain": [
       "<IPython.core.display.HTML object>"
      ]
     },
     "metadata": {},
     "output_type": "display_data"
    },
    {
     "name": "stdout",
     "output_type": "stream",
     "text": [
      "\n"
     ]
    },
    {
     "name": "stderr",
     "output_type": "stream",
     "text": [
      "message: Optimization terminated successfully.\n",
      "logp: -57.421349373917316 -> -51.819688155042414\n",
      "optimizing logp for variables: [ecs]\n"
     ]
    },
    {
     "data": {
      "text/html": [
       "\n",
       "    <div>\n",
       "        <style>\n",
       "            /* Turns off some styling */\n",
       "            progress {\n",
       "                /* gets rid of default border in Firefox and Opera. */\n",
       "                border: none;\n",
       "                /* Needs to be in here for Safari polyfill so background images work as expected. */\n",
       "                background-size: auto;\n",
       "            }\n",
       "            .progress-bar-interrupted, .progress-bar-interrupted::-webkit-progress-bar {\n",
       "                background: #F44336;\n",
       "            }\n",
       "        </style>\n",
       "      <progress value='20' class='' max='20' style='width:300px; height:20px; vertical-align: middle;'></progress>\n",
       "      100.00% [20/20 00:00<00:00 logp = -5.094e+01]\n",
       "    </div>\n",
       "    "
      ],
      "text/plain": [
       "<IPython.core.display.HTML object>"
      ]
     },
     "metadata": {},
     "output_type": "display_data"
    },
    {
     "name": "stdout",
     "output_type": "stream",
     "text": [
      "\n"
     ]
    },
    {
     "name": "stderr",
     "output_type": "stream",
     "text": [
      "message: Optimization terminated successfully.\n",
      "logp: -51.819688155042414 -> -50.93559539327115\n",
      "optimizing logp for variables: [trend, logs, ecs, logK, logP, t0]\n"
     ]
    },
    {
     "data": {
      "text/html": [
       "\n",
       "    <div>\n",
       "        <style>\n",
       "            /* Turns off some styling */\n",
       "            progress {\n",
       "                /* gets rid of default border in Firefox and Opera. */\n",
       "                border: none;\n",
       "                /* Needs to be in here for Safari polyfill so background images work as expected. */\n",
       "                background-size: auto;\n",
       "            }\n",
       "            .progress-bar-interrupted, .progress-bar-interrupted::-webkit-progress-bar {\n",
       "                background: #F44336;\n",
       "            }\n",
       "        </style>\n",
       "      <progress value='32' class='' max='32' style='width:300px; height:20px; vertical-align: middle;'></progress>\n",
       "      100.00% [32/32 00:00<00:00 logp = -5.077e+01]\n",
       "    </div>\n",
       "    "
      ],
      "text/plain": [
       "<IPython.core.display.HTML object>"
      ]
     },
     "metadata": {},
     "output_type": "display_data"
    },
    {
     "name": "stdout",
     "output_type": "stream",
     "text": [
      "\n"
     ]
    },
    {
     "name": "stderr",
     "output_type": "stream",
     "text": [
      "message: Optimization terminated successfully.\n",
      "logp: -50.93559539327115 -> -50.765648030597895\n"
     ]
    }
   ],
   "source": [
    "with model:\n",
    "    map_soln = pmx.optimize(start=model.test_point, vars=[trend])\n",
    "    map_soln = pmx.optimize(start=map_soln, vars=[t0, trend, logK, logP, logs])\n",
    "    map_soln = pmx.optimize(start=map_soln, vars=[ecs])\n",
    "    map_soln = pmx.optimize(start=map_soln)"
   ]
  },
  {
   "cell_type": "code",
   "execution_count": 11,
   "metadata": {
    "execution": {
     "iopub.execute_input": "2021-06-14T21:44:50.438834Z",
     "iopub.status.busy": "2021-06-14T21:44:50.437446Z",
     "iopub.status.idle": "2021-06-14T21:44:50.566263Z",
     "shell.execute_reply": "2021-06-14T21:44:50.565781Z"
    }
   },
   "outputs": [
    {
     "data": {
      "image/png": "[encoded data removed]",
      "text/plain": [
       "<Figure size 432x288 with 1 Axes>"
      ]
     },
     "metadata": {
      "needs_background": "light"
     },
     "output_type": "display_data"
    }
   ],
   "source": [
    "plt.errorbar(x, y, yerr=yerr, fmt=\".k\")\n",
    "plt.plot(t, map_soln[\"vrad_pred\"], \"--k\", alpha=0.5)\n",
    "plt.plot(t, map_soln[\"bkg_pred\"], \":k\", alpha=0.5)\n",
    "plt.plot(t, map_soln[\"rv_model_pred\"], label=\"model\")\n",
    "\n",
    "plt.legend(fontsize=10)\n",
    "plt.xlim(t.min(), t.max())\n",
    "plt.xlabel(\"time [days]\")\n",
    "plt.ylabel(\"radial velocity [m/s]\")\n",
    "_ = plt.title(\"MAP model\")"
   ]
  },
  {
   "cell_type": "markdown",
   "metadata": {},
   "source": [
    "That looks better.\n",
    "\n",
    "## Sampling\n",
    "\n",
    "Now that we have our model set up and a good estimate of the initial parameters, let's start sampling.\n",
    "There are substantial covariances between some of the parameters so we'll use the `pmx.sample` function from [pymc3-ext](https://github.com/exoplanet-dev/pymc3-ext) which wraps `pm.sample` function with some better defaults and tuning strategies."
   ]
  },
  {
   "cell_type": "code",
   "execution_count": 12,
   "metadata": {
    "execution": {
     "iopub.execute_input": "2021-06-14T21:44:50.571345Z",
     "iopub.status.busy": "2021-06-14T21:44:50.570883Z",
     "iopub.status.idle": "2021-06-14T21:45:28.561267Z",
     "shell.execute_reply": "2021-06-14T21:45:28.560401Z"
    }
   },
   "outputs": [
    {
     "name": "stderr",
     "output_type": "stream",
     "text": [
      "Multiprocess sampling (2 chains in 2 jobs)\n",
      "NUTS: [trend, logs, ecs, logK, logP, t0]\n"
     ]
    },
    {
     "data": {
      "text/html": [
       "\n",
       "    <div>\n",
       "        <style>\n",
       "            /* Turns off some styling */\n",
       "            progress {\n",
       "                /* gets rid of default border in Firefox and Opera. */\n",
       "                border: none;\n",
       "                /* Needs to be in here for Safari polyfill so background images work as expected. */\n",
       "                background-size: auto;\n",
       "            }\n",
       "            .progress-bar-interrupted, .progress-bar-interrupted::-webkit-progress-bar {\n",
       "                background: #F44336;\n",
       "            }\n",
       "        </style>\n",
       "      <progress value='4000' class='' max='4000' style='width:300px; height:20px; vertical-align: middle;'></progress>\n",
       "      100.00% [4000/4000 00:43<00:00 Sampling 2 chains, 0 divergences]\n",
       "    </div>\n",
       "    "
      ],
      "text/plain": [
       "<IPython.core.display.HTML object>"
      ]
     },
     "metadata": {},
     "output_type": "display_data"
    },
    {
     "name": "stderr",
     "output_type": "stream",
     "text": [
      "Sampling 2 chains for 1_000 tune and 1_000 draw iterations (2_000 + 2_000 draws total) took 60 seconds.\n"
     ]
    }
   ],
   "source": [
    "np.random.seed(42)\n",
    "with model:\n",
    "    trace = pmx.sample(\n",
    "        tune=1000,\n",
    "        draws=1000,\n",
    "        cores=2,\n",
    "        chains=2,\n",
    "        target_accept=0.9,\n",
    "        return_inferencedata=True,\n",
    "    )"
   ]
  },
  {
   "cell_type": "markdown",
   "metadata": {},
   "source": [
    "After sampling, it's always a good idea to do some convergence checks.\n",
    "First, let's check the number of effective samples and the Gelman-Rubin statistic for our parameters of interest:"
   ]
  },
  {
   "cell_type": "code",
   "execution_count": 13,
   "metadata": {
    "execution": {
     "iopub.execute_input": "2021-06-14T21:45:28.566239Z",
     "iopub.status.busy": "2021-06-14T21:45:28.565219Z",
     "iopub.status.idle": "2021-06-14T21:45:28.682340Z",
     "shell.execute_reply": "2021-06-14T21:45:28.681909Z"
    }
   },
   "outputs": [
    {
     "data": {
      "text/html": [
       "<div>\n",
       "<style scoped>\n",
       "    .dataframe tbody tr th:only-of-type {\n",
       "        vertical-align: middle;\n",
       "    }\n",
       "\n",
       "    .dataframe tbody tr th {\n",
       "        vertical-align: top;\n",
       "    }\n",
       "\n",
       "    .dataframe thead th {\n",
       "        text-align: right;\n",
       "    }\n",
       "</style>\n",
       "<table border=\"1\" class=\"dataframe\">\n",
       "  <thead>\n",
       "    <tr style=\"text-align: right;\">\n",
       "      <th></th>\n",
       "      <th>mean</th>\n",
       "      <th>sd</th>\n",
       "      <th>hdi_3%</th>\n",
       "      <th>hdi_97%</th>\n",
       "      <th>mcse_mean</th>\n",
       "      <th>mcse_sd</th>\n",
       "      <th>ess_mean</th>\n",
       "      <th>ess_sd</th>\n",
       "      <th>ess_bulk</th>\n",
       "      <th>ess_tail</th>\n",
       "      <th>r_hat</th>\n",
       "    </tr>\n",
       "  </thead>\n",
       "  <tbody>\n",
       "    <tr>\n",
       "      <th>trend[0]</th>\n",
       "      <td>0.001</td>\n",
       "      <td>0.001</td>\n",
       "      <td>-0.001</td>\n",
       "      <td>0.002</td>\n",
       "      <td>0.000</td>\n",
       "      <td>0.000</td>\n",
       "      <td>2108.0</td>\n",
       "      <td>1679.0</td>\n",
       "      <td>2091.0</td>\n",
       "      <td>1565.0</td>\n",
       "      <td>1.00</td>\n",
       "    </tr>\n",
       "    <tr>\n",
       "      <th>trend[1]</th>\n",
       "      <td>-0.040</td>\n",
       "      <td>0.024</td>\n",
       "      <td>-0.080</td>\n",
       "      <td>0.007</td>\n",
       "      <td>0.000</td>\n",
       "      <td>0.000</td>\n",
       "      <td>2580.0</td>\n",
       "      <td>2130.0</td>\n",
       "      <td>2600.0</td>\n",
       "      <td>1366.0</td>\n",
       "      <td>1.00</td>\n",
       "    </tr>\n",
       "    <tr>\n",
       "      <th>trend[2]</th>\n",
       "      <td>-1.876</td>\n",
       "      <td>0.782</td>\n",
       "      <td>-3.288</td>\n",
       "      <td>-0.366</td>\n",
       "      <td>0.018</td>\n",
       "      <td>0.013</td>\n",
       "      <td>1927.0</td>\n",
       "      <td>1927.0</td>\n",
       "      <td>1949.0</td>\n",
       "      <td>1585.0</td>\n",
       "      <td>1.00</td>\n",
       "    </tr>\n",
       "    <tr>\n",
       "      <th>logs</th>\n",
       "      <td>1.126</td>\n",
       "      <td>0.208</td>\n",
       "      <td>0.729</td>\n",
       "      <td>1.503</td>\n",
       "      <td>0.005</td>\n",
       "      <td>0.004</td>\n",
       "      <td>1523.0</td>\n",
       "      <td>1523.0</td>\n",
       "      <td>1566.0</td>\n",
       "      <td>1334.0</td>\n",
       "      <td>1.00</td>\n",
       "    </tr>\n",
       "    <tr>\n",
       "      <th>omega[0]</th>\n",
       "      <td>-0.023</td>\n",
       "      <td>1.195</td>\n",
       "      <td>-2.413</td>\n",
       "      <td>2.454</td>\n",
       "      <td>0.027</td>\n",
       "      <td>0.020</td>\n",
       "      <td>2019.0</td>\n",
       "      <td>1863.0</td>\n",
       "      <td>1997.0</td>\n",
       "      <td>1800.0</td>\n",
       "      <td>1.00</td>\n",
       "    </tr>\n",
       "    <tr>\n",
       "      <th>omega[1]</th>\n",
       "      <td>-0.370</td>\n",
       "      <td>1.936</td>\n",
       "      <td>-2.812</td>\n",
       "      <td>3.093</td>\n",
       "      <td>0.044</td>\n",
       "      <td>0.034</td>\n",
       "      <td>1925.0</td>\n",
       "      <td>1606.0</td>\n",
       "      <td>1887.0</td>\n",
       "      <td>1939.0</td>\n",
       "      <td>1.00</td>\n",
       "    </tr>\n",
       "    <tr>\n",
       "      <th>ecc[0]</th>\n",
       "      <td>0.088</td>\n",
       "      <td>0.091</td>\n",
       "      <td>0.000</td>\n",
       "      <td>0.280</td>\n",
       "      <td>0.004</td>\n",
       "      <td>0.003</td>\n",
       "      <td>476.0</td>\n",
       "      <td>476.0</td>\n",
       "      <td>666.0</td>\n",
       "      <td>844.0</td>\n",
       "      <td>1.00</td>\n",
       "    </tr>\n",
       "    <tr>\n",
       "      <th>ecc[1]</th>\n",
       "      <td>0.054</td>\n",
       "      <td>0.067</td>\n",
       "      <td>0.000</td>\n",
       "      <td>0.151</td>\n",
       "      <td>0.004</td>\n",
       "      <td>0.003</td>\n",
       "      <td>357.0</td>\n",
       "      <td>357.0</td>\n",
       "      <td>719.0</td>\n",
       "      <td>308.0</td>\n",
       "      <td>1.00</td>\n",
       "    </tr>\n",
       "    <tr>\n",
       "      <th>t0[0]</th>\n",
       "      <td>2072.795</td>\n",
       "      <td>0.001</td>\n",
       "      <td>2072.793</td>\n",
       "      <td>2072.796</td>\n",
       "      <td>0.000</td>\n",
       "      <td>0.000</td>\n",
       "      <td>1780.0</td>\n",
       "      <td>1780.0</td>\n",
       "      <td>1782.0</td>\n",
       "      <td>1401.0</td>\n",
       "      <td>1.00</td>\n",
       "    </tr>\n",
       "    <tr>\n",
       "      <th>t0[1]</th>\n",
       "      <td>2082.625</td>\n",
       "      <td>0.000</td>\n",
       "      <td>2082.624</td>\n",
       "      <td>2082.626</td>\n",
       "      <td>0.000</td>\n",
       "      <td>0.000</td>\n",
       "      <td>2104.0</td>\n",
       "      <td>2104.0</td>\n",
       "      <td>2199.0</td>\n",
       "      <td>1716.0</td>\n",
       "      <td>1.01</td>\n",
       "    </tr>\n",
       "    <tr>\n",
       "      <th>logK[0]</th>\n",
       "      <td>1.505</td>\n",
       "      <td>0.237</td>\n",
       "      <td>1.075</td>\n",
       "      <td>1.926</td>\n",
       "      <td>0.007</td>\n",
       "      <td>0.005</td>\n",
       "      <td>1043.0</td>\n",
       "      <td>1043.0</td>\n",
       "      <td>1268.0</td>\n",
       "      <td>864.0</td>\n",
       "      <td>1.00</td>\n",
       "    </tr>\n",
       "    <tr>\n",
       "      <th>logK[1]</th>\n",
       "      <td>1.497</td>\n",
       "      <td>0.249</td>\n",
       "      <td>1.036</td>\n",
       "      <td>1.921</td>\n",
       "      <td>0.007</td>\n",
       "      <td>0.005</td>\n",
       "      <td>1443.0</td>\n",
       "      <td>1443.0</td>\n",
       "      <td>1841.0</td>\n",
       "      <td>1018.0</td>\n",
       "      <td>1.00</td>\n",
       "    </tr>\n",
       "    <tr>\n",
       "      <th>P[0]</th>\n",
       "      <td>20.885</td>\n",
       "      <td>0.000</td>\n",
       "      <td>20.885</td>\n",
       "      <td>20.886</td>\n",
       "      <td>0.000</td>\n",
       "      <td>0.000</td>\n",
       "      <td>2226.0</td>\n",
       "      <td>2226.0</td>\n",
       "      <td>2218.0</td>\n",
       "      <td>1559.0</td>\n",
       "      <td>1.00</td>\n",
       "    </tr>\n",
       "    <tr>\n",
       "      <th>P[1]</th>\n",
       "      <td>42.363</td>\n",
       "      <td>0.001</td>\n",
       "      <td>42.362</td>\n",
       "      <td>42.364</td>\n",
       "      <td>0.000</td>\n",
       "      <td>0.000</td>\n",
       "      <td>2465.0</td>\n",
       "      <td>2465.0</td>\n",
       "      <td>2446.0</td>\n",
       "      <td>1344.0</td>\n",
       "      <td>1.00</td>\n",
       "    </tr>\n",
       "  </tbody>\n",
       "</table>\n",
       "</div>"
      ],
      "text/plain": [
       "              mean     sd    hdi_3%   hdi_97%  mcse_mean  mcse_sd  ess_mean  \\\n",
       "trend[0]     0.001  0.001    -0.001     0.002      0.000    0.000    2108.0   \n",
       "trend[1]    -0.040  0.024    -0.080     0.007      0.000    0.000    2580.0   \n",
       "trend[2]    -1.876  0.782    -3.288    -0.366      0.018    0.013    1927.0   \n",
       "logs         1.126  0.208     0.729     1.503      0.005    0.004    1523.0   \n",
       "omega[0]    -0.023  1.195    -2.413     2.454      0.027    0.020    2019.0   \n",
       "omega[1]    -0.370  1.936    -2.812     3.093      0.044    0.034    1925.0   \n",
       "ecc[0]       0.088  0.091     0.000     0.280      0.004    0.003     476.0   \n",
       "ecc[1]       0.054  0.067     0.000     0.151      0.004    0.003     357.0   \n",
       "t0[0]     2072.795  0.001  2072.793  2072.796      0.000    0.000    1780.0   \n",
       "t0[1]     2082.625  0.000  2082.624  2082.626      0.000    0.000    2104.0   \n",
       "logK[0]      1.505  0.237     1.075     1.926      0.007    0.005    1043.0   \n",
       "logK[1]      1.497  0.249     1.036     1.921      0.007    0.005    1443.0   \n",
       "P[0]        20.885  0.000    20.885    20.886      0.000    0.000    2226.0   \n",
       "P[1]        42.363  0.001    42.362    42.364      0.000    0.000    2465.0   \n",
       "\n",
       "          ess_sd  ess_bulk  ess_tail  r_hat  \n",
       "trend[0]  1679.0    2091.0    1565.0   1.00  \n",
       "trend[1]  2130.0    2600.0    1366.0   1.00  \n",
       "trend[2]  1927.0    1949.0    1585.0   1.00  \n",
       "logs      1523.0    1566.0    1334.0   1.00  \n",
       "omega[0]  1863.0    1997.0    1800.0   1.00  \n",
       "omega[1]  1606.0    1887.0    1939.0   1.00  \n",
       "ecc[0]     476.0     666.0     844.0   1.00  \n",
       "ecc[1]     357.0     719.0     308.0   1.00  \n",
       "t0[0]     1780.0    1782.0    1401.0   1.00  \n",
       "t0[1]     2104.0    2199.0    1716.0   1.01  \n",
       "logK[0]   1043.0    1268.0     864.0   1.00  \n",
       "logK[1]   1443.0    1841.0    1018.0   1.00  \n",
       "P[0]      2226.0    2218.0    1559.0   1.00  \n",
       "P[1]      2465.0    2446.0    1344.0   1.00  "
      ]
     },
     "execution_count": 13,
     "metadata": {},
     "output_type": "execute_result"
    }
   ],
   "source": [
    "import arviz as az\n",
    "\n",
    "az.summary(\n",
    "    trace, var_names=[\"trend\", \"logs\", \"omega\", \"ecc\", \"t0\", \"logK\", \"P\"]\n",
    ")"
   ]
  },
  {
   "cell_type": "markdown",
   "metadata": {},
   "source": [
    "It looks like everything is pretty much converged here. Not bad for 14 parameters and about a minute of runtime...\n",
    "\n",
    "Then we can make a [corner plot](https://corner.readthedocs.io) of any combination of the parameters.\n",
    "For example, let's look at period, semi-amplitude, and eccentricity:"
   ]
  },
  {
   "cell_type": "code",
   "execution_count": 15,
   "metadata": {
    "execution": {
     "iopub.execute_input": "2021-06-14T21:45:28.686224Z",
     "iopub.status.busy": "2021-06-14T21:45:28.685774Z",
     "iopub.status.idle": "2021-06-14T21:45:32.087665Z",
     "shell.execute_reply": "2021-06-14T21:45:32.088047Z"
    }
   },
   "outputs": [
    {
     "ename": "ValueError",
     "evalue": "It looks like the parameter(s) in column(s) 0 have no dynamic range. Please provide a `range` argument.",
     "output_type": "error",
     "traceback": [
      "\u001b[0;31m---------------------------------------------------------------------------\u001b[0m",
      "\u001b[0;31mValueError\u001b[0m                                Traceback (most recent call last)",
      "\u001b[0;32m<ipython-input-15-aa9391f24562>\u001b[0m in \u001b[0;36m<module>\u001b[0;34m\u001b[0m\n\u001b[1;32m      2\u001b[0m \u001b[0;34m\u001b[0m\u001b[0m\n\u001b[1;32m      3\u001b[0m \u001b[0;32mwith\u001b[0m \u001b[0mmodel\u001b[0m\u001b[0;34m:\u001b[0m\u001b[0;34m\u001b[0m\u001b[0;34m\u001b[0m\u001b[0m\n\u001b[0;32m----> 4\u001b[0;31m     \u001b[0m_\u001b[0m \u001b[0;34m=\u001b[0m \u001b[0mcorner\u001b[0m\u001b[0;34m.\u001b[0m\u001b[0mcorner\u001b[0m\u001b[0;34m(\u001b[0m\u001b[0mtrace\u001b[0m\u001b[0;34m,\u001b[0m \u001b[0mvar_names\u001b[0m\u001b[0;34m=\u001b[0m\u001b[0;34m[\u001b[0m\u001b[0;34m\"P\"\u001b[0m\u001b[0;34m,\u001b[0m \u001b[0;34m\"logK\"\u001b[0m\u001b[0;34m,\u001b[0m \u001b[0;34m\"ecc\"\u001b[0m\u001b[0;34m,\u001b[0m \u001b[0;34m\"omega\"\u001b[0m\u001b[0;34m]\u001b[0m\u001b[0;34m)\u001b[0m\u001b[0;34m\u001b[0m\u001b[0;34m\u001b[0m\u001b[0m\n\u001b[0m",
      "\u001b[0;32m~/.local/lib/python3.6/site-packages/corner/corner.py\u001b[0m in \u001b[0;36mcorner\u001b[0;34m(xs, bins, range, weights, color, smooth, smooth1d, labels, label_kwargs, show_titles, title_fmt, title_kwargs, truths, truth_color, scale_hist, quantiles, verbose, fig, max_n_ticks, top_ticks, use_math_text, hist_kwargs, **hist2d_kwargs)\u001b[0m\n\u001b[1;32m    171\u001b[0m                                   \"Please provide a `range` argument.\")\n\u001b[1;32m    172\u001b[0m                                  .format(\", \".join(map(\n\u001b[0;32m--> 173\u001b[0;31m                                      \"{0}\".format, np.arange(len(m))[m]))))\n\u001b[0m\u001b[1;32m    174\u001b[0m \u001b[0;34m\u001b[0m\u001b[0m\n\u001b[1;32m    175\u001b[0m     \u001b[0;32melse\u001b[0m\u001b[0;34m:\u001b[0m\u001b[0;34m\u001b[0m\u001b[0;34m\u001b[0m\u001b[0m\n",
      "\u001b[0;31mValueError\u001b[0m: It looks like the parameter(s) in column(s) 0 have no dynamic range. Please provide a `range` argument."
     ]
    }
   ],
   "source": [
    "import corner\n",
    "\n",
    "with model:\n",
    "    _ = corner.corner(trace, var_names=[\"P\", \"logK\", \"ecc\", \"omega\"])"
   ]
  },
  {
   "cell_type": "markdown",
   "metadata": {},
   "source": [
    "Finally, let's plot the plosterior constraints on the RV model and compare those to the data:"
   ]
  },
  {
   "cell_type": "code",
   "execution_count": 16,
   "metadata": {
    "execution": {
     "iopub.execute_input": "2021-06-14T21:45:32.111541Z",
     "iopub.status.busy": "2021-06-14T21:45:32.109580Z",
     "iopub.status.idle": "2021-06-14T21:45:32.304549Z",
     "shell.execute_reply": "2021-06-14T21:45:32.304924Z"
    }
   },
   "outputs": [
    {
     "data": {
      "image/png": "[encoded data removed]",
      "text/plain": [
       "<Figure size 432x288 with 1 Axes>"
      ]
     },
     "metadata": {
      "needs_background": "light"
     },
     "output_type": "display_data"
    }
   ],
   "source": [
    "plt.errorbar(x, y, yerr=yerr, fmt=\".k\")\n",
    "\n",
    "# Compute the posterior predictions for the RV model\n",
    "rv_pred = trace.posterior[\"rv_model_pred\"].values\n",
    "pred = np.percentile(rv_pred, [16, 50, 84], axis=(0, 1))\n",
    "plt.plot(t, pred[1], color=\"C0\", label=\"model\")\n",
    "art = plt.fill_between(t, pred[0], pred[2], color=\"C0\", alpha=0.3)\n",
    "art.set_edgecolor(\"none\")\n",
    "\n",
    "plt.legend(fontsize=10)\n",
    "plt.xlim(t.min(), t.max())\n",
    "plt.xlabel(\"time [days]\")\n",
    "plt.ylabel(\"radial velocity [m/s]\")\n",
    "_ = plt.title(\"posterior constraints\")"
   ]
  },
  {
   "cell_type": "markdown",
   "metadata": {},
   "source": [
    "## Phase plots\n",
    "\n",
    "It might be also be interesting to look at the phased plots for this system.\n",
    "Here we'll fold the dataset on the median of posterior period and then overplot the posterior constraint on the folded model orbits."
   ]
  },
  {
   "cell_type": "code",
   "execution_count": 17,
   "metadata": {
    "execution": {
     "iopub.execute_input": "2021-06-14T21:45:32.313294Z",
     "iopub.status.busy": "2021-06-14T21:45:32.312804Z",
     "iopub.status.idle": "2021-06-14T21:45:32.963116Z",
     "shell.execute_reply": "2021-06-14T21:45:32.963478Z"
    }
   },
   "outputs": [
    {
     "data": {
      "image/png": "[encoded data removed]",
      "text/plain": [
       "<Figure size 432x288 with 1 Axes>"
      ]
     },
     "metadata": {
      "needs_background": "light"
     },
     "output_type": "display_data"
    },
    {
     "data": {
      "image/png": "[encoded data removed]",
      "text/plain": [
       "<Figure size 432x288 with 1 Axes>"
      ]
     },
     "metadata": {
      "needs_background": "light"
     },
     "output_type": "display_data"
    }
   ],
   "source": [
    "for n, letter in enumerate(\"bc\"):\n",
    "    plt.figure()\n",
    "\n",
    "    # Get the posterior median orbital parameters\n",
    "    p = np.median(trace.posterior[\"P\"].values[:, :, n])\n",
    "    t0 = np.median(trace.posterior[\"t0\"].values[:, :, n])\n",
    "\n",
    "    # Compute the median of posterior estimate of the background RV\n",
    "    # and the contribution from the other planet. Then we can remove\n",
    "    # this from the data to plot just the planet we care about.\n",
    "    other = np.median(\n",
    "        trace.posterior[\"vrad\"].values[:, :, :, (n + 1) % 2], axis=(0, 1)\n",
    "    )\n",
    "    other += np.median(trace.posterior[\"bkg\"].values, axis=(0, 1))\n",
    "\n",
    "    # Plot the folded data\n",
    "    x_fold = (x - t0 + 0.5 * p) % p - 0.5 * p\n",
    "    plt.errorbar(x_fold, y - other, yerr=yerr, fmt=\".k\")\n",
    "\n",
    "    # Compute the posterior prediction for the folded RV model for this\n",
    "    # planet\n",
    "    t_fold = (t - t0 + 0.5 * p) % p - 0.5 * p\n",
    "    inds = np.argsort(t_fold)\n",
    "    pred = np.percentile(\n",
    "        trace.posterior[\"vrad_pred\"].values[:, :, inds, n],\n",
    "        [16, 50, 84],\n",
    "        axis=(0, 1),\n",
    "    )\n",
    "    plt.plot(t_fold[inds], pred[1], color=\"C0\", label=\"model\")\n",
    "    art = plt.fill_between(\n",
    "        t_fold[inds], pred[0], pred[2], color=\"C0\", alpha=0.3\n",
    "    )\n",
    "    art.set_edgecolor(\"none\")\n",
    "\n",
    "    plt.legend(fontsize=10)\n",
    "    plt.xlim(-0.5 * p, 0.5 * p)\n",
    "    plt.xlabel(\"phase [days]\")\n",
    "    plt.ylabel(\"radial velocity [m/s]\")\n",
    "    plt.title(\"K2-24{0}\".format(letter))"
   ]
  },
  {
   "cell_type": "markdown",
   "metadata": {},
   "source": [
    "## Citations\n",
    "\n",
    "As described in the [citation tutorial](https://docs.exoplanet.codes/en/stable/tutorials/citation/), we can use [citations.get_citations_for_model](https://docs.exoplanet.codes/en/stable/user/api/#exoplanet.citations.get_citations_for_model) to construct an acknowledgement and BibTeX listing that includes the relevant citations for this model."
   ]
  },
  {
   "cell_type": "code",
   "execution_count": null,
   "metadata": {
    "execution": {
     "iopub.execute_input": "2021-06-14T21:45:32.968541Z",
     "iopub.status.busy": "2021-06-14T21:45:32.967519Z",
     "iopub.status.idle": "2021-06-14T21:45:32.970086Z",
     "shell.execute_reply": "2021-06-14T21:45:32.969691Z"
    }
   },
   "outputs": [],
   "source": [
    "with model:\n",
    "    txt, bib = xo.citations.get_citations_for_model()\n",
    "print(txt)"
   ]
  },
  {
   "cell_type": "code",
   "execution_count": null,
   "metadata": {
    "execution": {
     "iopub.execute_input": "2021-06-14T21:45:32.974230Z",
     "iopub.status.busy": "2021-06-14T21:45:32.973334Z",
     "iopub.status.idle": "2021-06-14T21:45:32.975806Z",
     "shell.execute_reply": "2021-06-14T21:45:32.975411Z"
    }
   },
   "outputs": [],
   "source": [
    "print(bib.split(\"\\n\\n\")[0] + \"\\n\\n...\")"
   ]
  },
  {
   "cell_type": "code",
   "execution_count": null,
   "metadata": {},
   "outputs": [],
   "source": []
  }
 ],
 "metadata": {
  "kernelspec": {
   "display_name": "Python 3",
   "language": "python",
   "name": "python3"
  },
  "language_info": {
   "codemirror_mode": {
    "name": "ipython",
    "version": 3
   },
   "file_extension": ".py",
   "mimetype": "text/x-python",
   "name": "python",
   "nbconvert_exporter": "python",
   "pygments_lexer": "ipython3",
   "version": "3.6.8"
  }
 },
 "nbformat": 4,
 "nbformat_minor": 5
}
