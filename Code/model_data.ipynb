{
 "cells": [
  {
   "cell_type": "code",
   "execution_count": 1,
   "id": "024023ea",
   "metadata": {},
   "outputs": [
    {
     "name": "stderr",
     "output_type": "stream",
     "text": [
      "WARNING (theano.link.c.cmodule): install mkl with `conda install mkl-service`: No module named 'mkl'\n"
     ]
    },
    {
     "name": "stdout",
     "output_type": "stream",
     "text": [
      "exoplanet.__version__ = '0.5.1'\n"
     ]
    }
   ],
   "source": [
    "import sys\n",
    "sys.version\n",
    "\n",
    "import exoplanet\n",
    "print(f\"exoplanet.__version__ = '{exoplanet.__version__}'\")\n",
    "\n",
    "\n",
    "\n",
    "import numpy as np\n",
    "import pandas as pd\n",
    "import matplotlib.pyplot as plt\n",
    "import exoplanet as xo\n",
    "import pymc3 as pm\n",
    "import pymc3_ext as pmx\n",
    "from astropy import units as u\n",
    "from astropy.constants import M_earth, M_sun\n",
    "from simulate_data import *\n",
    "from model_data import *\n",
    "\n",
    "import matplotlib \n",
    "matplotlib.rc('xtick', labelsize=18) \n",
    "matplotlib.rc('ytick', labelsize=18)\n",
    "\n"
   ]
  },
  {
   "cell_type": "code",
   "execution_count": 17,
   "id": "5f2bce98",
   "metadata": {},
   "outputs": [],
   "source": [
    "T_subtract = 2454000\n",
    "# orbital parameters from https://www.princeton.edu/~willman/planetary_systems/Sol/\n",
    "# BJD determined by converting values above using https://ssd.jpl.nasa.gov/tc.cgi#top\n",
    "\n",
    "P_earth = 365.256\n",
    "e_earth = 0.0167\n",
    "Tper_earth= 2454115.5208333 - T_subtract\n",
    "omega_earth = np.radians(102.9)\n",
    "Omega_earth = np.radians(0.0)\n",
    "inclination_earth = np.radians(70.0)\n",
    "m_earth = 1*3.00273e-6 #units m_sun\n",
    "\n",
    "\n",
    "\n",
    "P_jup = 4327.631\n",
    "e_jup = 0.0484\n",
    "Tper_jup = 2455633.7215278 - T_subtract\n",
    "omega_jup = np.radians(274.3) - 2*np.pi\n",
    "Omega_jup = np.radians(100.4)\n",
    "inclination_jup = np.radians(1.31) + inclination_earth\n",
    "m_jup = 317.83*3.00273e-6 #units m_sun\n",
    "\n",
    "\n",
    "m_sun = 333030 #earth masses\n",
    "\n",
    "\n",
    "orbit_params_earth = [P_earth, e_earth, Tper_earth, omega_earth, Omega_earth, inclination_earth, m_earth]\n",
    "orbit_params_jup = [P_jup, e_jup, Tper_jup, omega_jup, Omega_jup, inclination_jup, m_jup]\n",
    "\n",
    "\n",
    "orbit_params = [orbit_params_earth, orbit_params_jup]\n",
    "\n",
    "times_observed_astrometry = []\n",
    "t_0 = int(Tper_earth)\n",
    "for ii in range(t_0, t_0+1800):\n",
    "\tif ii % 50 == 0:\n",
    "\t\ttimes_observed_astrometry.append(ii)\n",
    "\n",
    "n_planets = 2\n",
    "t_dur_rv = 3650\n",
    "n_obs_rv = 3000\n",
    "sigma_rv = 0.3\n",
    "\n",
    "sigma_theta = 0.05\n",
    "sigma_rho = 0.001\n",
    "parallax = 0.1\n",
    "\n",
    "\n",
    "times, rv_results, theta_results, rho_results = simulate_data(\n",
    "\tn_planets, \n",
    "\tsigma_rv, \n",
    "\tsigma_theta,\n",
    "\tsigma_rho,\n",
    "\tparallax,\n",
    "\torbit_params,\n",
    "\tt_dur_rv = t_dur_rv,\n",
    "\tn_obs_rv = n_obs_rv,\n",
    "\ttimes_observed_astrometry = times_observed_astrometry\n",
    "\t)\n",
    "\n",
    "\n",
    "[[times_rv, times_observed_rv, times_astrometry, times_observed_astrometry],\n",
    "\t [rv_orbit, rv_orbit_sum, rv_sim, rv_sim_sum],\n",
    "\t [theta_orbit, theta_orbit_sum, theta_sim, theta_sim_sum],\n",
    "\t [rho_orbit, rho_orbit_sum, rho_sim, rho_sim_sum]]  = times, rv_results, theta_results, rho_results\n",
    "\n"
   ]
  },
  {
   "cell_type": "code",
   "execution_count": 18,
   "id": "141803d0",
   "metadata": {},
   "outputs": [],
   "source": [
    "x_rv = times_observed_rv\n",
    "y_rv = rv_sim_sum\n",
    "y_rv_err = np.full(np.shape(y_rv), sigma_rv)\n",
    "\n",
    "x_astrometry = np.array(times_observed_astrometry)\n",
    "theta_data = theta_sim_sum\n",
    "theta_err = np.full(np.shape(theta_data), sigma_theta)\n",
    "rho_data = rho_sim_sum\n",
    "rho_err = np.full(np.shape(rho_data), sigma_rho)\n",
    "\n",
    "\n",
    "# make a fine grid that spans the observation window for plotting purposes\n",
    "t_astrometry = np.linspace(x_astrometry.min() - 5, x_astrometry.max() + 5, 1000)\n",
    "t_rv = np.linspace(x_rv.min() - 5, x_rv.max() + 5, 1000)\n",
    "\n",
    "# for predicted orbits\n",
    "t_fine = np.linspace(x_astrometry.min() - 500, x_astrometry.max() + 500, num=1000)\n",
    "\n",
    "\n",
    "\n"
   ]
  },
  {
   "cell_type": "code",
   "execution_count": 19,
   "id": "77c61562",
   "metadata": {},
   "outputs": [
    {
     "name": "stdout",
     "output_type": "stream",
     "text": [
      "finding RV model solutions\n"
     ]
    },
    {
     "name": "stderr",
     "output_type": "stream",
     "text": [
      "optimizing logp for variables: [logK, ecs]\n"
     ]
    },
    {
     "data": {
      "text/html": [
       "\n",
       "    <div>\n",
       "        <style>\n",
       "            /* Turns off some styling */\n",
       "            progress {\n",
       "                /* gets rid of default border in Firefox and Opera. */\n",
       "                border: none;\n",
       "                /* Needs to be in here for Safari polyfill so background images work as expected. */\n",
       "                background-size: auto;\n",
       "            }\n",
       "            .progress-bar-interrupted, .progress-bar-interrupted::-webkit-progress-bar {\n",
       "                background: #F44336;\n",
       "            }\n",
       "        </style>\n",
       "      <progress value='225' class='' max='225' style='width:300px; height:20px; vertical-align: middle;'></progress>\n",
       "      100.00% [225/225 00:00<00:00 logp = -2.787e+03]\n",
       "    </div>\n",
       "    "
      ],
      "text/plain": [
       "<IPython.core.display.HTML object>"
      ]
     },
     "metadata": {},
     "output_type": "display_data"
    },
    {
     "name": "stdout",
     "output_type": "stream",
     "text": [
      "\n"
     ]
    },
    {
     "name": "stderr",
     "output_type": "stream",
     "text": [
      "message: Desired error not necessarily achieved due to precision loss.\n",
      "logp: -600852.2209509383 -> -2786.7041786929717\n",
      "optimizing logp for variables: [logK, ecs, tperi]\n"
     ]
    },
    {
     "data": {
      "text/html": [
       "\n",
       "    <div>\n",
       "        <style>\n",
       "            /* Turns off some styling */\n",
       "            progress {\n",
       "                /* gets rid of default border in Firefox and Opera. */\n",
       "                border: none;\n",
       "                /* Needs to be in here for Safari polyfill so background images work as expected. */\n",
       "                background-size: auto;\n",
       "            }\n",
       "            .progress-bar-interrupted, .progress-bar-interrupted::-webkit-progress-bar {\n",
       "                background: #F44336;\n",
       "            }\n",
       "        </style>\n",
       "      <progress value='235' class='' max='235' style='width:300px; height:20px; vertical-align: middle;'></progress>\n",
       "      100.00% [235/235 00:01<00:00 logp = -1.725e+03]\n",
       "    </div>\n",
       "    "
      ],
      "text/plain": [
       "<IPython.core.display.HTML object>"
      ]
     },
     "metadata": {},
     "output_type": "display_data"
    },
    {
     "name": "stdout",
     "output_type": "stream",
     "text": [
      "\n"
     ]
    },
    {
     "name": "stderr",
     "output_type": "stream",
     "text": [
      "message: Optimization terminated successfully.\n",
      "logp: -2786.7041786929717 -> -1725.4489323589717\n",
      "optimizing logp for variables: [logs, ecs, logK, logP, tperi]\n"
     ]
    },
    {
     "data": {
      "text/html": [
       "\n",
       "    <div>\n",
       "        <style>\n",
       "            /* Turns off some styling */\n",
       "            progress {\n",
       "                /* gets rid of default border in Firefox and Opera. */\n",
       "                border: none;\n",
       "                /* Needs to be in here for Safari polyfill so background images work as expected. */\n",
       "                background-size: auto;\n",
       "            }\n",
       "            .progress-bar-interrupted, .progress-bar-interrupted::-webkit-progress-bar {\n",
       "                background: #F44336;\n",
       "            }\n",
       "        </style>\n",
       "      <progress value='72' class='' max='72' style='width:300px; height:20px; vertical-align: middle;'></progress>\n",
       "      100.00% [72/72 00:00<00:00 logp = -1.724e+03]\n",
       "    </div>\n",
       "    "
      ],
      "text/plain": [
       "<IPython.core.display.HTML object>"
      ]
     },
     "metadata": {},
     "output_type": "display_data"
    },
    {
     "name": "stdout",
     "output_type": "stream",
     "text": [
      "\n"
     ]
    },
    {
     "name": "stderr",
     "output_type": "stream",
     "text": [
      "message: Desired error not necessarily achieved due to precision loss.\n",
      "logp: -1725.4489323589717 -> -1724.0093907363218\n"
     ]
    },
    {
     "data": {
      "image/png": "[encoded data removed]",
      "text/plain": [
       "<Figure size 1080x720 with 2 Axes>"
      ]
     },
     "metadata": {
      "needs_background": "light"
     },
     "output_type": "display_data"
    }
   ],
   "source": [
    "\n",
    "periods_guess = [360, 4330]\n",
    "Ks_guess = xo.estimate_semi_amplitude(periods_guess, x_rv, y_rv, y_rv_err)\n",
    "\n",
    "\n",
    "print(\"finding RV model solutions\")\n",
    "rv_map_soln = model_rv(periods_guess, Ks_guess, x_rv, y_rv, y_rv_err)\n",
    "\n",
    "fig, ax = plt.subplots(1,2, figsize = [15,10])\n",
    "\n",
    "ax[0].errorbar(x_rv, y_rv, yerr=y_rv_err, fmt=\".k\", alpha = 0.05, label='data', zorder=1)\n",
    "ax[0].plot(t_rv, rv_map_soln[\"rv_model_pred\"], \"b\", label=\"combined model\", zorder=2)\n",
    "ax[0].plot(t_rv, rv_map_soln[\"vrad_pred\"], \"--k\", alpha=0.5, label=\"individual models\")\n",
    "\n",
    "\n",
    "ax[0].legend(fontsize=10)\n",
    "ax[0].set_xlim(t_rv.min(), t_rv.max())\n",
    "ax[0].set_xlabel(\"time [days]\")\n",
    "ax[0].set_ylabel(\"radial velocity [m/s]\")\n",
    "ax[0].set_title(\"MAP model and data\")\n",
    "\n",
    "\n",
    "ax[1].plot(t_rv, rv_map_soln[\"vrad_pred\"], \"--k\", alpha=0.5, label=\"individual models\")\n",
    "ax[1].legend(fontsize=10)\n",
    "ax[1].set_xlim(t_rv.min(), t_rv.max())\n",
    "ax[1].set_xlabel(\"time [days]\")\n",
    "ax[1].set_ylabel(\"radial velocity [m/s]\")\n",
    "ax[1].set_title(\"MAP model only\")\n",
    "plt.show()\n",
    "\n"
   ]
  },
  {
   "cell_type": "code",
   "execution_count": null,
   "id": "4756bc7e",
   "metadata": {},
   "outputs": [
    {
     "name": "stdout",
     "output_type": "stream",
     "text": [
      "finding joint model solutions\n",
      "[ 363.6107191  4324.09038235]\n",
      "[ 0.07736065 11.81836345]\n",
      "[ 176.19039317 1637.05317174]\n",
      "[0.21803274 0.04780289]\n",
      "[ 2.59173441 -1.49222975]\n"
     ]
    },
    {
     "name": "stderr",
     "output_type": "stream",
     "text": [
      "optimizing logp for variables: [sqrtm_sini, sqrtm_cosi]\n"
     ]
    },
    {
     "data": {
      "text/html": [
       "\n",
       "    <div>\n",
       "        <style>\n",
       "            /* Turns off some styling */\n",
       "            progress {\n",
       "                /* gets rid of default border in Firefox and Opera. */\n",
       "                border: none;\n",
       "                /* Needs to be in here for Safari polyfill so background images work as expected. */\n",
       "                background-size: auto;\n",
       "            }\n",
       "            .progress-bar-interrupted, .progress-bar-interrupted::-webkit-progress-bar {\n",
       "                background: #F44336;\n",
       "            }\n",
       "        </style>\n",
       "      <progress value='83' class='' max='83' style='width:300px; height:20px; vertical-align: middle;'></progress>\n",
       "      100.00% [83/83 00:00<00:00 logp = -1.666e+04]\n",
       "    </div>\n",
       "    "
      ],
      "text/plain": [
       "<IPython.core.display.HTML object>"
      ]
     },
     "metadata": {},
     "output_type": "display_data"
    },
    {
     "name": "stdout",
     "output_type": "stream",
     "text": [
      "\n"
     ]
    },
    {
     "name": "stderr",
     "output_type": "stream",
     "text": [
      "message: Optimization terminated successfully.\n",
      "logp: -785165.0029239384 -> -16663.21672976663\n",
      "optimizing logp for variables: [phase]\n"
     ]
    },
    {
     "data": {
      "text/html": [
       "\n",
       "    <div>\n",
       "        <style>\n",
       "            /* Turns off some styling */\n",
       "            progress {\n",
       "                /* gets rid of default border in Firefox and Opera. */\n",
       "                border: none;\n",
       "                /* Needs to be in here for Safari polyfill so background images work as expected. */\n",
       "                background-size: auto;\n",
       "            }\n",
       "            .progress-bar-interrupted, .progress-bar-interrupted::-webkit-progress-bar {\n",
       "                background: #F44336;\n",
       "            }\n",
       "        </style>\n",
       "      <progress value='123' class='' max='123' style='width:300px; height:20px; vertical-align: middle;'></progress>\n",
       "      100.00% [123/123 00:00<00:00 logp = -9.193e+03]\n",
       "    </div>\n",
       "    "
      ],
      "text/plain": [
       "<IPython.core.display.HTML object>"
      ]
     },
     "metadata": {},
     "output_type": "display_data"
    },
    {
     "name": "stdout",
     "output_type": "stream",
     "text": [
      "\n"
     ]
    },
    {
     "name": "stderr",
     "output_type": "stream",
     "text": [
      "message: Optimization terminated successfully.\n",
      "logp: -16663.21672976663 -> -9192.91364752399\n",
      "optimizing logp for variables: [ecs, Omega_plus, Omega_minus]\n"
     ]
    },
    {
     "data": {
      "text/html": [
       "\n",
       "    <div>\n",
       "        <style>\n",
       "            /* Turns off some styling */\n",
       "            progress {\n",
       "                /* gets rid of default border in Firefox and Opera. */\n",
       "                border: none;\n",
       "                /* Needs to be in here for Safari polyfill so background images work as expected. */\n",
       "                background-size: auto;\n",
       "            }\n",
       "            .progress-bar-interrupted, .progress-bar-interrupted::-webkit-progress-bar {\n",
       "                background: #F44336;\n",
       "            }\n",
       "        </style>\n",
       "      <progress value='271' class='' max='271' style='width:300px; height:20px; vertical-align: middle;'></progress>\n",
       "      100.00% [271/271 00:01<00:00 logp = -1.621e+03]\n",
       "    </div>\n",
       "    "
      ],
      "text/plain": [
       "<IPython.core.display.HTML object>"
      ]
     },
     "metadata": {},
     "output_type": "display_data"
    },
    {
     "name": "stdout",
     "output_type": "stream",
     "text": [
      "\n"
     ]
    },
    {
     "name": "stderr",
     "output_type": "stream",
     "text": [
      "message: Desired error not necessarily achieved due to precision loss.\n",
      "logp: -9192.91364752399 -> -1620.6359568086366\n",
      "optimizing logp for variables: [phase, sqrtm_sini, sqrtm_cosi, logP]\n"
     ]
    },
    {
     "data": {
      "text/html": [
       "\n",
       "    <div>\n",
       "        <style>\n",
       "            /* Turns off some styling */\n",
       "            progress {\n",
       "                /* gets rid of default border in Firefox and Opera. */\n",
       "                border: none;\n",
       "                /* Needs to be in here for Safari polyfill so background images work as expected. */\n",
       "                background-size: auto;\n",
       "            }\n",
       "            .progress-bar-interrupted, .progress-bar-interrupted::-webkit-progress-bar {\n",
       "                background: #F44336;\n",
       "            }\n",
       "        </style>\n",
       "      <progress value='88' class='' max='88' style='width:300px; height:20px; vertical-align: middle;'></progress>\n",
       "      100.00% [88/88 00:00<00:00 logp = -1.462e+03]\n",
       "    </div>\n",
       "    "
      ],
      "text/plain": [
       "<IPython.core.display.HTML object>"
      ]
     },
     "metadata": {},
     "output_type": "display_data"
    },
    {
     "name": "stdout",
     "output_type": "stream",
     "text": [
      "\n"
     ]
    },
    {
     "name": "stderr",
     "output_type": "stream",
     "text": [
      "message: Desired error not necessarily achieved due to precision loss.\n",
      "logp: -1620.6359568086366 -> -1461.5960521885222\n"
     ]
    }
   ],
   "source": [
    "print(\"finding joint model solutions\")\n",
    "parallax = 0.1 # arcsec\n",
    "model, map_soln = model_both(rv_map_soln, x_rv, y_rv, y_rv_err, x_astrometry, \n",
    "                             rho_data, rho_err, theta_data, theta_err, parallax)\n",
    "\n"
   ]
  },
  {
   "cell_type": "code",
   "execution_count": null,
   "id": "7d1fc847",
   "metadata": {},
   "outputs": [],
   "source": [
    "\n",
    "\n",
    "ekw = dict(fmt=\".k\", lw=0.5)\n",
    "\n",
    "fig, ax = plt.subplots(nrows=4, sharex=True, figsize=(6, 8))\n",
    "ax[0].set_ylabel(r'$\\rho\\,$ [\"]')\n",
    "ax[1].set_ylabel(r\"$\\rho$ residuals\")\n",
    "ax[2].set_ylabel(r\"P.A. [radians]\")\n",
    "ax[3].set_ylabel(r\"P.A. residuals\")\n",
    "\n",
    "tot_rho_err = np.sqrt(rho_err ** 2 + np.exp(2 * map_soln[\"log_rho_s\"]))\n",
    "tot_theta_err = np.sqrt(theta_err ** 2 + np.exp(2 * map_soln[\"log_theta_s\"]))\n",
    "\n",
    "ax[0].errorbar(x_astrometry, rho_data, yerr=tot_rho_err, **ekw)\n",
    "ax[0].plot(t_fine, map_soln[\"rho_model_pred\"], color=\"#773f6a\")\n",
    "\n",
    "ax[1].axhline(0.0, color=\"0.5\")\n",
    "ax[1].errorbar(\n",
    "\tx_astrometry, rho_data - map_soln[\"rho_model\"], yerr=tot_rho_err, **ekw\n",
    ")\n",
    "\n",
    "\n",
    "ax[2].plot(t_fine, map_soln[\"theta_model_pred\"], color=\"#773f6a\")\n",
    "ax[2].errorbar(x_astrometry, theta_data, yerr=tot_theta_err, **ekw)\n",
    "\n",
    "ax[3].axhline(0.0, color=\"0.5\")\n",
    "ax[3].errorbar(\n",
    "\tx_astrometry, theta_data - map_soln[\"theta_model\"], yerr=tot_theta_err, **ekw\n",
    ")\n",
    "\n",
    "ax[3].set_xlim(t_fine[0], t_fine[-1])\n",
    "_ = ax[0].set_title(\"map orbit\")\n",
    "\n",
    "plt.show()\n",
    "\n"
   ]
  },
  {
   "cell_type": "code",
   "execution_count": null,
   "id": "d8b4f31c",
   "metadata": {},
   "outputs": [],
   "source": [
    "\n",
    "\n",
    "fig, ax = plt.subplots(1, figsize = [9,9])\n",
    "\n",
    "xs = map_soln[\"rho_model_pred\"] * np.cos(map_soln[\"theta_model_pred\"])  # X is north\n",
    "ys = map_soln[\"rho_model_pred\"] * np.sin(map_soln[\"theta_model_pred\"])  # Y is east\n",
    "ax.plot(ys, xs, color=\"#773f6a\", lw=1, label = \"RV + astrometry model\")\n",
    "\n",
    "\n",
    "# plot the data\n",
    "xs = rho_data * np.cos(theta_data)  # X is north\n",
    "ys = rho_data * np.sin(theta_data)  # Y is east\n",
    "ax.plot(ys, xs, \".k\", label = \"data\")\n",
    "\n",
    "ax.set_ylabel(r\"$\\Delta \\delta$ ['']\")\n",
    "ax.set_xlabel(r\"$\\Delta \\alpha \\cos \\delta$ ['']\")\n",
    "ax.invert_xaxis()\n",
    "ax.plot(0, 0, \"k*\")\n",
    "ax.set_aspect(\"equal\", \"datalim\")\n",
    "ax.set_title(\"initial orbit\")\n",
    "ax.legend()\n",
    "plt.show()\n",
    "\n"
   ]
  },
  {
   "cell_type": "code",
   "execution_count": null,
   "id": "88bea354",
   "metadata": {},
   "outputs": [],
   "source": [
    "plt.figure(figsize=[15,10])\n",
    "plt.plot(t_rv, map_soln[\"rv_model_pred\"],color=\"#773f6a\", lw=3)\n",
    "plt.plot(x_rv, y_rv, color='k', alpha=0.3)\n",
    "plt.xlabel(\"time [days]\")\n",
    "plt.ylabel(\"RV [m/s]\")\n",
    "plt.show()\n",
    "\n"
   ]
  }
 ],
 "metadata": {
  "kernelspec": {
   "display_name": "Python3.9",
   "language": "python",
   "name": "python3.9"
  },
  "language_info": {
   "codemirror_mode": {
    "name": "ipython",
    "version": 3
   },
   "file_extension": ".py",
   "mimetype": "text/x-python",
   "name": "python",
   "nbconvert_exporter": "python",
   "pygments_lexer": "ipython3",
   "version": "3.9.5"
  }
 },
 "nbformat": 4,
 "nbformat_minor": 5
}
