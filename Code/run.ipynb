{
 "cells": [
  {
   "cell_type": "code",
   "execution_count": 1,
   "id": "06384899",
   "metadata": {},
   "outputs": [
    {
     "name": "stderr",
     "output_type": "stream",
     "text": [
      "WARNING (theano.link.c.cmodule): install mkl with `conda install mkl-service`: No module named 'mkl'\n"
     ]
    },
    {
     "name": "stdout",
     "output_type": "stream",
     "text": [
      "exoplanet.__version__ = '0.5.1'\n"
     ]
    }
   ],
   "source": [
    "from simulate_and_model import *"
   ]
  },
  {
   "cell_type": "code",
   "execution_count": null,
   "id": "90843c6a",
   "metadata": {},
   "outputs": [
    {
     "name": "stdout",
     "output_type": "stream",
     "text": [
      "start\n",
      "--------\n",
      "Jupiter period: 10000\n",
      "Earth inclination: 10\n",
      "Roman precision: 5\n"
     ]
    }
   ],
   "source": [
    "incs_earth = [10., 45., 80.]\n",
    "periods_jup = [10000]\n",
    "roman_errs = [5e-6, 10e-6, 20e-6, None]\n",
    "\n",
    "\n",
    "for inc in incs_earth:\n",
    "    for period in periods_jup:\n",
    "        for roman_err in roman_errs:\n",
    "            print('start')\n",
    "            print('--------')\n",
    "            print('Jupiter period: ' + str(int(period)))\n",
    "            print('Earth inclination: ' + str(int(inc)))\n",
    "            \n",
    "            if roman_err is not None:\n",
    "                print('Roman precision: ' + str(int(1e6*roman_err)))\n",
    "            else:\n",
    "                print('Roman precision: N/A')\n",
    "            simulate_and_model_data(inc, period, roman_err)\n",
    "            print('end')\n",
    "            print('')\n",
    "            print('')\n",
    "            print('')\n",
    "            print('')\n",
    "            print('')\n",
    "            print('')\n",
    "            print('')\n",
    "            print('')\n",
    "            print('')\n",
    "            print('')\n"
   ]
  },
  {
   "cell_type": "code",
   "execution_count": null,
   "id": "9c92500d",
   "metadata": {},
   "outputs": [],
   "source": []
  }
 ],
 "metadata": {
  "kernelspec": {
   "display_name": "Python3.9",
   "language": "python",
   "name": "python3.9"
  },
  "language_info": {
   "codemirror_mode": {
    "name": "ipython",
    "version": 3
   },
   "file_extension": ".py",
   "mimetype": "text/x-python",
   "name": "python",
   "nbconvert_exporter": "python",
   "pygments_lexer": "ipython3",
   "version": "3.9.5"
  }
 },
 "nbformat": 4,
 "nbformat_minor": 5
}
