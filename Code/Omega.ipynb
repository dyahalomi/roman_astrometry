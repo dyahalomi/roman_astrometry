{
 "cells": [
  {
   "cell_type": "markdown",
   "id": "4883231c",
   "metadata": {},
   "source": [
    "(rv)=\n",
    "\n",
    "# Radial velocity fitting"
   ]
  },
  {
   "cell_type": "code",
   "execution_count": 223,
   "id": "542bbcd1",
   "metadata": {},
   "outputs": [
    {
     "data": {
      "text/plain": [
       "'3.9.5 | packaged by conda-forge | (default, Jun 19 2021, 00:27:35) \\n[Clang 11.1.0 ]'"
      ]
     },
     "execution_count": 223,
     "metadata": {},
     "output_type": "execute_result"
    }
   ],
   "source": [
    "import sys\n",
    "sys.version"
   ]
  },
  {
   "cell_type": "code",
   "execution_count": 224,
   "id": "947c1f02",
   "metadata": {
    "execution": {
     "iopub.execute_input": "2021-06-14T21:40:59.742299Z",
     "iopub.status.busy": "2021-06-14T21:40:59.741797Z",
     "iopub.status.idle": "2021-06-14T21:41:02.380014Z",
     "shell.execute_reply": "2021-06-14T21:41:02.379446Z"
    }
   },
   "outputs": [
    {
     "name": "stdout",
     "output_type": "stream",
     "text": [
      "exoplanet.__version__ = '0.5.1'\n"
     ]
    }
   ],
   "source": [
    "import exoplanet\n",
    "print(f\"exoplanet.__version__ = '{exoplanet.__version__}'\")"
   ]
  },
  {
   "cell_type": "markdown",
   "id": "d0d351e6",
   "metadata": {},
   "source": [
    "Fitting RVs for Earth and Jupiter"
   ]
  },
  {
   "cell_type": "code",
   "execution_count": 1,
   "id": "c7d990fd",
   "metadata": {
    "execution": {
     "iopub.execute_input": "2021-06-14T21:41:02.386410Z",
     "iopub.status.busy": "2021-06-14T21:41:02.385946Z",
     "iopub.status.idle": "2021-06-14T21:41:02.641843Z",
     "shell.execute_reply": "2021-06-14T21:41:02.641352Z"
    }
   },
   "outputs": [
    {
     "name": "stderr",
     "output_type": "stream",
     "text": [
      "WARNING (theano.link.c.cmodule): install mkl with `conda install mkl-service`: No module named 'mkl'\n"
     ]
    }
   ],
   "source": [
    "import numpy as np\n",
    "import pandas as pd\n",
    "import matplotlib.pyplot as plt\n",
    "import exoplanet as xo\n",
    "import pymc3 as pm\n",
    "import pymc3_ext as pmx\n",
    "from astropy import units as u\n",
    "from astropy.constants import M_earth, M_sun\n",
    "from simulate_data import *\n",
    "\n",
    "import matplotlib \n",
    "matplotlib.rc('xtick', labelsize=18) \n",
    "matplotlib.rc('ytick', labelsize=18)\n",
    "\n",
    "T_subtract = 2454000\n",
    "# orbital parameters from https://www.princeton.edu/~willman/planetary_systems/Sol/\n",
    "# BJD determined by converting values above using https://ssd.jpl.nasa.gov/tc.cgi#top\n",
    "\n",
    "P_earth = 365.256\n",
    "e_earth = 0.0167\n",
    "Tper_earth= 2454115.5208333 - T_subtract\n",
    "omega_earth = np.radians(102.9)\n",
    "Omega_earth = np.radians(0.0)\n",
    "inclination_earth = np.radians(45.0)\n",
    "m_earth = 1*3.00273e-6 #units m_sun\n",
    "\n",
    "\n",
    "\n",
    "P_jup = 4327.631\n",
    "e_jup = 0.0484\n",
    "Tper_jup = 2455633.7215278- T_subtract\n",
    "omega_jup = np.radians(274.3) - 2*np.pi\n",
    "Omega_jup = np.radians(100.4)\n",
    "inclination_jup = np.radians(0) + inclination_earth\n",
    "m_jup = 317.83*3.00273e-6 #units m_sun\n",
    "\n",
    "\n"
   ]
  },
  {
   "cell_type": "code",
   "execution_count": 57,
   "id": "61eb7b67",
   "metadata": {},
   "outputs": [],
   "source": [
    "orbit_params_earth = [P_earth, e_earth, Tper_earth, omega_earth, Omega_earth, inclination_earth, m_earth]\n",
    "orbit_params_jup = [P_jup, e_jup, Tper_jup, omega_jup, Omega_jup, inclination_jup, m_jup]\n",
    "\n",
    "orbit_params = [orbit_params_earth, orbit_params_jup]\n",
    "\n",
    "################\n",
    "\n",
    "orbit_params_earth2 = [P_earth, e_earth, Tper_earth, omega_earth, Omega_earth-100, inclination_earth, m_earth]\n",
    "orbit_params_jup2 = [P_jup, e_jup, Tper_jup, omega_jup, Omega_jup+100, inclination_jup, m_jup]\n",
    "\n",
    "orbit_params2 = [orbit_params_earth2, orbit_params_jup2]\n",
    "\n",
    "\n",
    "times_observed_astrometry = []\n",
    "t_0 = int(Tper_earth)\n",
    "for ii in range(t_0, t_0+1800):\n",
    "    if ii % 50 == 0:\n",
    "        times_observed_astrometry.append(ii)\n",
    "\n",
    "n_planets = 2\n",
    "t_dur_rv = 3650\n",
    "n_obs_rv = 3000\n",
    "sigma_rv = 0.0\n",
    "\n",
    "sigma_theta = 0.0\n",
    "sigma_rho = 0.0\n",
    "plx = 0.1\n",
    "\n",
    "\n",
    "\n",
    "################\n",
    "\n",
    "times, rv_results, theta_results, rho_results = simulate_data(\n",
    "    n_planets, \n",
    "    sigma_rv, \n",
    "    sigma_theta,\n",
    "    sigma_rho,\n",
    "    plx,\n",
    "    orbit_params,\n",
    "    t_dur_rv = t_dur_rv,\n",
    "    n_obs_rv = n_obs_rv,\n",
    "    times_observed_astrometry = times_observed_astrometry\n",
    "    )\n",
    "\n",
    "\n",
    "[_,_,[theta_orbit, theta_orbit_sum, theta_sim, theta_sim_sum],_]  = \\\n",
    "    times, rv_results, theta_results, rho_results\n",
    "\n",
    "\n",
    "################\n",
    "\n",
    "times, rv_results, theta_results, rho_results = simulate_data(\n",
    "    n_planets, \n",
    "    sigma_rv, \n",
    "    sigma_theta,\n",
    "    sigma_rho,\n",
    "    plx,\n",
    "    orbit_params2,\n",
    "    t_dur_rv = t_dur_rv,\n",
    "    n_obs_rv = n_obs_rv,\n",
    "    times_observed_astrometry = times_observed_astrometry\n",
    "    )\n",
    "\n",
    "\n",
    "[_,_,[theta_orbit2, theta_orbit_sum2, theta_sim2, theta_sim_sum2],_]  = \\\n",
    "    times, rv_results, theta_results, rho_results\n"
   ]
  },
  {
   "cell_type": "code",
   "execution_count": 58,
   "id": "3142cd54",
   "metadata": {},
   "outputs": [
    {
     "data": {
      "text/plain": [
       "True"
      ]
     },
     "execution_count": 58,
     "metadata": {},
     "output_type": "execute_result"
    }
   ],
   "source": [
    "np.isclose(theta_orbit_sum.all(), theta_orbit_sum2.all()) "
   ]
  },
  {
   "cell_type": "code",
   "execution_count": 69,
   "id": "71ad7a67",
   "metadata": {},
   "outputs": [
    {
     "data": {
      "text/plain": [
       "array([0.74569799, 0.74871604, 0.75172833, ..., 1.72641454, 1.73023247,\n",
       "       1.73405806])"
      ]
     },
     "execution_count": 69,
     "metadata": {},
     "output_type": "execute_result"
    }
   ],
   "source": [
    "theta_orbit_sum = np.round(theta_orbit_sum, 9)\n",
    "theta_orbit_sum\n"
   ]
  },
  {
   "cell_type": "code",
   "execution_count": 70,
   "id": "670c461a",
   "metadata": {},
   "outputs": [
    {
     "data": {
      "text/plain": [
       "array([0.74569799, 0.74871604, 0.75172833, ..., 1.72641454, 1.73023247,\n",
       "       1.73405806])"
      ]
     },
     "execution_count": 70,
     "metadata": {},
     "output_type": "execute_result"
    }
   ],
   "source": [
    "theta_orbit_sum2 = np.round(theta_orbit_sum2, 9)\n",
    "theta_orbit_sum2"
   ]
  },
  {
   "cell_type": "code",
   "execution_count": 71,
   "id": "98371cb0",
   "metadata": {},
   "outputs": [
    {
     "data": {
      "text/plain": [
       "[<matplotlib.lines.Line2D at 0x1345340d0>]"
      ]
     },
     "execution_count": 71,
     "metadata": {},
     "output_type": "execute_result"
    },
    {
     "data": {
      "image/png": "[encoded data removed]",
      "text/plain": [
       "<Figure size 432x288 with 1 Axes>"
      ]
     },
     "metadata": {
      "needs_background": "light"
     },
     "output_type": "display_data"
    }
   ],
   "source": [
    "plt.plot(np.arange(0, len(theta_orbit_sum)), theta_orbit_sum2 - theta_orbit_sum, 'o')"
   ]
  },
  {
   "cell_type": "code",
   "execution_count": null,
   "id": "c352e3d7",
   "metadata": {},
   "outputs": [],
   "source": []
  }
 ],
 "metadata": {
  "kernelspec": {
   "display_name": "Python 3",
   "language": "python",
   "name": "python3"
  },
  "language_info": {
   "codemirror_mode": {
    "name": "ipython",
    "version": 3
   },
   "file_extension": ".py",
   "mimetype": "text/x-python",
   "name": "python",
   "nbconvert_exporter": "python",
   "pygments_lexer": "ipython3",
   "version": "3.9.5"
  }
 },
 "nbformat": 4,
 "nbformat_minor": 5
}
